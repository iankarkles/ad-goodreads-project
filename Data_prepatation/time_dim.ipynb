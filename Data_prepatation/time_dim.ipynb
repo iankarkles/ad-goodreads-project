{
 "cells": [
  {
   "cell_type": "code",
   "execution_count": 2,
   "metadata": {},
   "outputs": [],
   "source": [
    "import pandas as pd"
   ]
  },
  {
   "cell_type": "code",
   "execution_count": 3,
   "metadata": {},
   "outputs": [],
   "source": [
    "authors = pd.read_csv('../CSV Files/authors.csv', index_col='author_id')\n",
    "authorship = pd.read_csv('../CSV Files/authorship.csv')\n",
    "books = pd.read_csv('../CSV Files/books.csv', index_col='book_id')\n",
    "book_tags = pd.read_csv('../CSV Files/book_tags.csv')\n",
    "ratings = pd.read_csv('../CSV Files/ratings_with_date.csv')\n",
    "tags = pd.read_csv('../CSV Files/tags.csv', index_col='tag_id')\n",
    "to_read = pd.read_csv('../CSV Files/to_read_2.csv')\n",
    "users = pd.read_csv('../CSV Files/user_2.csv')\n",
    "users = users.drop(columns=['Unnamed: 0'], axis=1)"
   ]
  },
  {
   "cell_type": "code",
   "execution_count": 4,
   "metadata": {},
   "outputs": [],
   "source": [
    "# convert str to dates\n",
    "ratings['date'] = pd.to_datetime(ratings['date'])\n",
    "to_read['date'] = pd.to_datetime(to_read['date'])\n",
    "users['birthdate'] = pd.to_datetime(users['birthdate'])\n",
    "\n",
    "# Create time date frame with time_id\n",
    "time = pd.DataFrame()\n",
    "time = pd.concat([ratings['date'], to_read['date'], users['birthdate']], ignore_index=True)\n",
    "time = pd.DataFrame(time)\n",
    "time.rename(columns={0: 'date'}, inplace=True)\n",
    "time['flag'] = None\n",
    "time.iloc[:5976479, [1]] = 'ratings_date'\n",
    "time.iloc[5976479:6889184, [1]] = 'to_read_date'\n",
    "time.iloc[6889184: , [1]] = 'users_date'\n",
    "time['id'] = time.index + 1\n",
    "time['year'] = time['date'].dt.year\n",
    "time['month'] = time['date'].dt.month\n",
    "time['day'] = time['date'].dt.day\n",
    "#time = time[['date', 'year', 'month', 'day', 'flag']]\n",
    "#time_id = time[['id', 'date', 'flag']]\n",
    "#time_id['date'] = time_id['date'].astype(str)\n",
    "time['date'] = time['date'].drop_duplicates()\n",
    "time = time.dropna()\n",
    "time = time.reset_index(drop=True)\n",
    "time['id'] = time.index + 1\n",
    "\n"
   ]
  },
  {
   "cell_type": "code",
   "execution_count": 5,
   "metadata": {},
   "outputs": [],
   "source": [
    "# create to_read with time_id\n",
    "to_read_merged = pd.merge(to_read, time, on='date', how='inner')\n",
    "to_read_merged = to_read_merged.drop(columns=['date', 'flag', 'year', 'month', 'day'])\n",
    "to_read_merged.rename(columns={'id': 'time_id'}, inplace=True)"
   ]
  },
  {
   "cell_type": "code",
   "execution_count": 6,
   "metadata": {},
   "outputs": [],
   "source": [
    "# create ratings with time_id\n",
    "ratings_merged = pd.merge(ratings, time, on='date', how='inner')\n",
    "ratings_merged = ratings_merged.drop(columns=['date', 'flag', 'year', 'month', 'day'])\n",
    "ratings_merged.rename(columns={'id': 'time_id'}, inplace=True)"
   ]
  },
  {
   "cell_type": "code",
   "execution_count": 7,
   "metadata": {},
   "outputs": [],
   "source": [
    "# create users with time_id\n",
    "users_merged = pd.merge(users, time, left_on='birthdate', right_on='date', how='inner')\n",
    "users_merged = users_merged.drop(columns=['date', 'flag', 'year', 'month', 'day'])\n",
    "users_merged.rename(columns={'id': 'time_id'}, inplace=True)"
   ]
  },
  {
   "cell_type": "code",
   "execution_count": 8,
   "metadata": {},
   "outputs": [],
   "source": [
    "to_read_merged.to_csv('../CSV Files/to_read_merged.csv')\n",
    "ratings_merged.to_csv('../CSV Files/ratings_merged.csv')\n",
    "users_merged.to_csv('../CSV Files/users_merged.csv')\n",
    "time.to_csv('../CSV Files/time.csv')"
   ]
  }
 ],
 "metadata": {
  "kernelspec": {
   "display_name": "base",
   "language": "python",
   "name": "python3"
  },
  "language_info": {
   "codemirror_mode": {
    "name": "ipython",
    "version": 3
   },
   "file_extension": ".py",
   "mimetype": "text/x-python",
   "name": "python",
   "nbconvert_exporter": "python",
   "pygments_lexer": "ipython3",
   "version": "3.10.10"
  },
  "orig_nbformat": 4
 },
 "nbformat": 4,
 "nbformat_minor": 2
}
