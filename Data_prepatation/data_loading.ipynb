{
 "cells": [
  {
   "cell_type": "code",
   "execution_count": 8,
   "metadata": {},
   "outputs": [],
   "source": [
    "import pandas as pd\n",
    "import numpy as np\n",
    "from datetime import datetime\n",
    "import pandas.io.sql as sqlio\n",
    "import psycopg2"
   ]
  },
  {
   "attachments": {},
   "cell_type": "markdown",
   "metadata": {},
   "source": [
    "# Goodreads Data Warehouse"
   ]
  },
  {
   "attachments": {},
   "cell_type": "markdown",
   "metadata": {},
   "source": [
    "## Connection to database"
   ]
  },
  {
   "cell_type": "code",
   "execution_count": 9,
   "metadata": {},
   "outputs": [
    {
     "ename": "OperationalError",
     "evalue": "connection to server at \"dbm.fe.up.pt\" (10.227.243.16), port 5433 failed: could not fork new process for connection: Cannot allocate memory\n",
     "output_type": "error",
     "traceback": [
      "\u001b[0;31m---------------------------------------------------------------------------\u001b[0m",
      "\u001b[0;31mOperationalError\u001b[0m                          Traceback (most recent call last)",
      "\u001b[1;32m/Users/vp/Desktop/MDSE/2S/AD/project/ad-goodreads-project/Data_prepatation/data_loading.ipynb Cell 4\u001b[0m in \u001b[0;36m<cell line: 2>\u001b[0;34m()\u001b[0m\n\u001b[1;32m      <a href='vscode-notebook-cell:/Users/vp/Desktop/MDSE/2S/AD/project/ad-goodreads-project/Data_prepatation/data_loading.ipynb#W3sZmlsZQ%3D%3D?line=0'>1</a>\u001b[0m \u001b[39m## connect to database\u001b[39;00m\n\u001b[0;32m----> <a href='vscode-notebook-cell:/Users/vp/Desktop/MDSE/2S/AD/project/ad-goodreads-project/Data_prepatation/data_loading.ipynb#W3sZmlsZQ%3D%3D?line=1'>2</a>\u001b[0m con \u001b[39m=\u001b[39m psycopg2\u001b[39m.\u001b[39;49mconnect(\n\u001b[1;32m      <a href='vscode-notebook-cell:/Users/vp/Desktop/MDSE/2S/AD/project/ad-goodreads-project/Data_prepatation/data_loading.ipynb#W3sZmlsZQ%3D%3D?line=2'>3</a>\u001b[0m     database\u001b[39m=\u001b[39;49m\u001b[39m\"\u001b[39;49m\u001b[39mfced_paulo_portela\u001b[39;49m\u001b[39m\"\u001b[39;49m,             \u001b[39m# your database is the same as your username\u001b[39;49;00m\n\u001b[1;32m      <a href='vscode-notebook-cell:/Users/vp/Desktop/MDSE/2S/AD/project/ad-goodreads-project/Data_prepatation/data_loading.ipynb#W3sZmlsZQ%3D%3D?line=3'>4</a>\u001b[0m     user\u001b[39m=\u001b[39;49m\u001b[39m\"\u001b[39;49m\u001b[39mfced_paulo_portela\u001b[39;49m\u001b[39m\"\u001b[39;49m,                 \u001b[39m# your username\u001b[39;49;00m\n\u001b[1;32m      <a href='vscode-notebook-cell:/Users/vp/Desktop/MDSE/2S/AD/project/ad-goodreads-project/Data_prepatation/data_loading.ipynb#W3sZmlsZQ%3D%3D?line=4'>5</a>\u001b[0m     password\u001b[39m=\u001b[39;49m\u001b[39m\"\u001b[39;49m\u001b[39m!Pnp2186tenis\u001b[39;49m\u001b[39m\"\u001b[39;49m,             \u001b[39m# your password\u001b[39;49;00m\n\u001b[1;32m      <a href='vscode-notebook-cell:/Users/vp/Desktop/MDSE/2S/AD/project/ad-goodreads-project/Data_prepatation/data_loading.ipynb#W3sZmlsZQ%3D%3D?line=5'>6</a>\u001b[0m     host\u001b[39m=\u001b[39;49m\u001b[39m\"\u001b[39;49m\u001b[39mdbm.fe.up.pt\u001b[39;49m\u001b[39m\"\u001b[39;49m,\n\u001b[1;32m      <a href='vscode-notebook-cell:/Users/vp/Desktop/MDSE/2S/AD/project/ad-goodreads-project/Data_prepatation/data_loading.ipynb#W3sZmlsZQ%3D%3D?line=6'>7</a>\u001b[0m     port\u001b[39m=\u001b[39;49m\u001b[39m\"\u001b[39;49m\u001b[39m5433\u001b[39;49m\u001b[39m\"\u001b[39;49m,             \u001b[39m# the database host\u001b[39;49;00m\n\u001b[1;32m      <a href='vscode-notebook-cell:/Users/vp/Desktop/MDSE/2S/AD/project/ad-goodreads-project/Data_prepatation/data_loading.ipynb#W3sZmlsZQ%3D%3D?line=7'>8</a>\u001b[0m     options\u001b[39m=\u001b[39;49m\u001b[39m'\u001b[39;49m\u001b[39m-c search_path=ad_goodreads\u001b[39;49m\u001b[39m'\u001b[39;49m  \u001b[39m# use the schema you want to connect to\u001b[39;49;00m\n\u001b[1;32m      <a href='vscode-notebook-cell:/Users/vp/Desktop/MDSE/2S/AD/project/ad-goodreads-project/Data_prepatation/data_loading.ipynb#W3sZmlsZQ%3D%3D?line=8'>9</a>\u001b[0m )\n\u001b[1;32m     <a href='vscode-notebook-cell:/Users/vp/Desktop/MDSE/2S/AD/project/ad-goodreads-project/Data_prepatation/data_loading.ipynb#W3sZmlsZQ%3D%3D?line=9'>10</a>\u001b[0m \u001b[39mprint\u001b[39m(\u001b[39m'\u001b[39m\u001b[39mConnection Sucessfully!\u001b[39m\u001b[39m'\u001b[39m)\n",
      "File \u001b[0;32m~/anaconda3/lib/python3.9/site-packages/psycopg2/__init__.py:122\u001b[0m, in \u001b[0;36mconnect\u001b[0;34m(dsn, connection_factory, cursor_factory, **kwargs)\u001b[0m\n\u001b[1;32m    119\u001b[0m     kwasync[\u001b[39m'\u001b[39m\u001b[39masync_\u001b[39m\u001b[39m'\u001b[39m] \u001b[39m=\u001b[39m kwargs\u001b[39m.\u001b[39mpop(\u001b[39m'\u001b[39m\u001b[39masync_\u001b[39m\u001b[39m'\u001b[39m)\n\u001b[1;32m    121\u001b[0m dsn \u001b[39m=\u001b[39m _ext\u001b[39m.\u001b[39mmake_dsn(dsn, \u001b[39m*\u001b[39m\u001b[39m*\u001b[39mkwargs)\n\u001b[0;32m--> 122\u001b[0m conn \u001b[39m=\u001b[39m _connect(dsn, connection_factory\u001b[39m=\u001b[39;49mconnection_factory, \u001b[39m*\u001b[39;49m\u001b[39m*\u001b[39;49mkwasync)\n\u001b[1;32m    123\u001b[0m \u001b[39mif\u001b[39;00m cursor_factory \u001b[39mis\u001b[39;00m \u001b[39mnot\u001b[39;00m \u001b[39mNone\u001b[39;00m:\n\u001b[1;32m    124\u001b[0m     conn\u001b[39m.\u001b[39mcursor_factory \u001b[39m=\u001b[39m cursor_factory\n",
      "\u001b[0;31mOperationalError\u001b[0m: connection to server at \"dbm.fe.up.pt\" (10.227.243.16), port 5433 failed: could not fork new process for connection: Cannot allocate memory\n"
     ]
    }
   ],
   "source": [
    "## connect to database\n",
    "con = psycopg2.connect(\n",
    "    database=\"fced_paulo_portela\",             # your database is the same as your username\n",
    "    user=\"fced_paulo_portela\",                 # your username\n",
    "    password=\"!Pnp2186tenis\",             # your password\n",
    "    host=\"dbm.fe.up.pt\",\n",
    "    port=\"5433\",             # the database host\n",
    "    options='-c search_path=ad_goodreads'  # use the schema you want to connect to\n",
    ")\n",
    "print('Connection Sucessfully!')"
   ]
  },
  {
   "attachments": {},
   "cell_type": "markdown",
   "metadata": {},
   "source": [
    "## Dimensions"
   ]
  },
  {
   "cell_type": "code",
   "execution_count": 4,
   "metadata": {},
   "outputs": [
    {
     "name": "stdout",
     "output_type": "stream",
     "text": [
      "Table authors created successfully\n"
     ]
    }
   ],
   "source": [
    "# Create table authors and insert data\n",
    "with open('../Files to load data into SQL/authors.sql', 'r') as file:\n",
    "    sql = file.read()\n",
    "\n",
    "cur = con.cursor()\n",
    "cur.execute(sql)\n",
    "con.commit()\n",
    "print('Table to_read created successfully')"
   ]
  },
  {
   "cell_type": "code",
   "execution_count": 5,
   "metadata": {},
   "outputs": [
    {
     "name": "stdout",
     "output_type": "stream",
     "text": [
      "Table books created successfully\n"
     ]
    }
   ],
   "source": [
    "# Create table books and insert data\n",
    "with open('../Files to load data into SQL/books.sql', 'r') as file:\n",
    "    sql = file.read()\n",
    "\n",
    "cur = con.cursor()\n",
    "cur.execute(sql)\n",
    "con.commit()\n",
    "print('Table books created successfully')"
   ]
  },
  {
   "cell_type": "code",
   "execution_count": 6,
   "metadata": {},
   "outputs": [
    {
     "name": "stdout",
     "output_type": "stream",
     "text": [
      "Table users created successfully\n"
     ]
    }
   ],
   "source": [
    "# Create table users and insert data\n",
    "with open('../Files to load data into SQL/users.sql', 'r') as file:\n",
    "    sql = file.read()\n",
    "\n",
    "cur = con.cursor()\n",
    "cur.execute(sql)\n",
    "con.commit()\n",
    "print('Table users created successfully')"
   ]
  },
  {
   "cell_type": "code",
   "execution_count": 7,
   "metadata": {},
   "outputs": [
    {
     "name": "stdout",
     "output_type": "stream",
     "text": [
      "Table tags created successfully\n"
     ]
    }
   ],
   "source": [
    "# Create table tags and insert data\n",
    "with open('../Files to load data into SQL/tags.sql', 'r') as file:\n",
    "    sql = file.read()\n",
    "\n",
    "cur = con.cursor()\n",
    "cur.execute(sql)\n",
    "con.commit()\n",
    "print('Table tags created successfully')"
   ]
  },
  {
   "cell_type": "code",
   "execution_count": 8,
   "metadata": {},
   "outputs": [
    {
     "name": "stdout",
     "output_type": "stream",
     "text": [
      "Table time created successfully\n"
     ]
    }
   ],
   "source": [
    "# Create table time and insert data\n",
    "with open('../Files to load data into SQL/time.sql', 'r') as file:\n",
    "    sql = file.read()\n",
    "\n",
    "cur = con.cursor()\n",
    "cur.execute(sql)\n",
    "con.commit()\n",
    "print('Table time created successfully')"
   ]
  },
  {
   "attachments": {},
   "cell_type": "markdown",
   "metadata": {},
   "source": [
    "## Fact Tables"
   ]
  },
  {
   "cell_type": "code",
   "execution_count": 5,
   "metadata": {},
   "outputs": [
    {
     "name": "stdout",
     "output_type": "stream",
     "text": [
      "Table to_read created successfully\n"
     ]
    }
   ],
   "source": [
    "# Create table to_read and insert data\n",
    "with open('../Files to load data into SQL/to_read.sql', 'r') as file:\n",
    "    sql = file.read()\n",
    "\n",
    "cur = con.cursor()\n",
    "cur.execute(sql)\n",
    "con.commit()\n",
    "print('Table to_read created successfully')\n"
   ]
  },
  {
   "cell_type": "code",
   "execution_count": 6,
   "metadata": {},
   "outputs": [
    {
     "name": "stdout",
     "output_type": "stream",
     "text": [
      "Table book_tags created successfully\n"
     ]
    }
   ],
   "source": [
    "# Create table book_tags and insert data\n",
    "with open('../Files to load data into SQL/book_tags.sql', 'r') as file:\n",
    "    sql = file.read()\n",
    "\n",
    "cur = con.cursor()\n",
    "cur.execute(sql)\n",
    "con.commit()\n",
    "print('Table book_tags created successfully')"
   ]
  },
  {
   "cell_type": "code",
   "execution_count": 7,
   "metadata": {},
   "outputs": [
    {
     "name": "stdout",
     "output_type": "stream",
     "text": [
      "Table satistics_rating created successfully\n"
     ]
    }
   ],
   "source": [
    "# Create table statistics_rating and insert data\n",
    "with open('../Files to load data into SQL/statistics_rating.sql', 'r') as file:\n",
    "    sql = file.read()\n",
    "\n",
    "cur = con.cursor()\n",
    "cur.execute(sql)\n",
    "con.commit()\n",
    "print('Table satistics_rating created successfully')"
   ]
  },
  {
   "cell_type": "code",
   "execution_count": 3,
   "metadata": {},
   "outputs": [
    {
     "ename": "DatabaseError",
     "evalue": "could not receive data from server: Operation timed out\nSSL SYSCALL error: Operation timed out\n",
     "output_type": "error",
     "traceback": [
      "\u001b[0;31m---------------------------------------------------------------------------\u001b[0m",
      "\u001b[0;31mDatabaseError\u001b[0m                             Traceback (most recent call last)",
      "\u001b[1;32m/Users/vp/Desktop/MDSE/2S/AD/project/ad-goodreads-project/Data_prepatation/data_loading.ipynb Cell 15\u001b[0m in \u001b[0;36m<cell line: 6>\u001b[0;34m()\u001b[0m\n\u001b[1;32m      <a href='vscode-notebook-cell:/Users/vp/Desktop/MDSE/2S/AD/project/ad-goodreads-project/Data_prepatation/data_loading.ipynb#X20sZmlsZQ%3D%3D?line=2'>3</a>\u001b[0m     sql \u001b[39m=\u001b[39m file\u001b[39m.\u001b[39mread()\n\u001b[1;32m      <a href='vscode-notebook-cell:/Users/vp/Desktop/MDSE/2S/AD/project/ad-goodreads-project/Data_prepatation/data_loading.ipynb#X20sZmlsZQ%3D%3D?line=4'>5</a>\u001b[0m cur \u001b[39m=\u001b[39m con\u001b[39m.\u001b[39mcursor()\n\u001b[0;32m----> <a href='vscode-notebook-cell:/Users/vp/Desktop/MDSE/2S/AD/project/ad-goodreads-project/Data_prepatation/data_loading.ipynb#X20sZmlsZQ%3D%3D?line=5'>6</a>\u001b[0m cur\u001b[39m.\u001b[39;49mexecute(sql)\n\u001b[1;32m      <a href='vscode-notebook-cell:/Users/vp/Desktop/MDSE/2S/AD/project/ad-goodreads-project/Data_prepatation/data_loading.ipynb#X20sZmlsZQ%3D%3D?line=6'>7</a>\u001b[0m con\u001b[39m.\u001b[39mcommit()\n\u001b[1;32m      <a href='vscode-notebook-cell:/Users/vp/Desktop/MDSE/2S/AD/project/ad-goodreads-project/Data_prepatation/data_loading.ipynb#X20sZmlsZQ%3D%3D?line=7'>8</a>\u001b[0m \u001b[39mprint\u001b[39m(\u001b[39m'\u001b[39m\u001b[39mTable ratings created successfully\u001b[39m\u001b[39m'\u001b[39m)\n",
      "\u001b[0;31mDatabaseError\u001b[0m: could not receive data from server: Operation timed out\nSSL SYSCALL error: Operation timed out\n"
     ]
    }
   ],
   "source": [
    "# Create table ratings and insert data\n",
    "with open('../Files to load data into SQL/ratings.sql', 'r') as file:\n",
    "    sql = file.read()\n",
    "\n",
    "cur = con.cursor()\n",
    "cur.execute(sql)\n",
    "con.commit()\n",
    "print('Table ratings created successfully')"
   ]
  },
  {
   "cell_type": "code",
   "execution_count": 7,
   "metadata": {},
   "outputs": [],
   "source": [
    "import os\n",
    "\n",
    "# Open the SQL file for reading\n",
    "with open('../Files to load data into SQL/ratings.sql', 'r') as sql_file:\n",
    "    # Read the contents of the file into a string variable\n",
    "    sql_contents = sql_file.read()\n",
    "\n",
    "# Calculate the size of each chunk\n",
    "chunk_size = len(sql_contents) // 6\n",
    "\n",
    "# Split the SQL string into 6 equal parts\n",
    "sql_chunks = [sql_contents[i:i+chunk_size] for i in range(0, len(sql_contents), chunk_size)]\n",
    "\n",
    "# Create six output files and write each chunk to a separate file\n",
    "for i in range(6):\n",
    "    # Create a file with a unique name\n",
    "    filename = f\"ratings_{i}.sql\"\n",
    "    with open(filename, 'w') as outfile:\n",
    "        # Write the current chunk to the file\n",
    "        outfile.write(sql_chunks[i])\n"
   ]
  }
 ],
 "metadata": {
  "kernelspec": {
   "display_name": "Python 3.9.12 ('base')",
   "language": "python",
   "name": "python3"
  },
  "language_info": {
   "codemirror_mode": {
    "name": "ipython",
    "version": 3
   },
   "file_extension": ".py",
   "mimetype": "text/x-python",
   "name": "python",
   "nbconvert_exporter": "python",
   "pygments_lexer": "ipython3",
   "version": "3.9.12"
  },
  "orig_nbformat": 4,
  "vscode": {
   "interpreter": {
    "hash": "40d3a090f54c6569ab1632332b64b2c03c39dcf918b08424e98f38b5ae0af88f"
   }
  }
 },
 "nbformat": 4,
 "nbformat_minor": 2
}
