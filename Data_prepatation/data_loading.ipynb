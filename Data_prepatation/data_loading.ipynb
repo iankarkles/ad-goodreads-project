{
 "cells": [
  {
   "cell_type": "code",
   "execution_count": 1,
   "metadata": {},
   "outputs": [],
   "source": [
    "import pandas as pd\n",
    "import numpy as np\n",
    "from datetime import datetime\n",
    "import pandas.io.sql as sqlio\n",
    "import psycopg2"
   ]
  },
  {
   "cell_type": "markdown",
   "metadata": {},
   "source": [
    "# Conectar à DB"
   ]
  },
  {
   "cell_type": "code",
   "execution_count": 108,
   "metadata": {},
   "outputs": [
    {
     "name": "stdout",
     "output_type": "stream",
     "text": [
      "Connection Sucessful!\n"
     ]
    }
   ],
   "source": [
    "## connect to database\n",
    "con = psycopg2.connect(\n",
    "    database=\"fced_paulo_portela\",             # your database is the same as your username\n",
    "    user=\"fced_paulo_portela\",                 # your username\n",
    "    password=\"!Pnp2186tenis\",             # your password\n",
    "    host=\"dbm.fe.up.pt\",\n",
    "    port=\"5433\",             # the database host\n",
    "    options='-c search_path=ad_goodreads'  # use the schema you want to connect to\n",
    ")\n",
    "print('Connection Sucessful!')"
   ]
  },
  {
   "cell_type": "code",
   "execution_count": null,
   "metadata": {},
   "outputs": [],
   "source": [
    "#criação da tabela to_read\n",
    "cur = con.cursor()\n",
    "cur.execute('''CREATE TABLE to_read(\n",
    "    user_id INTEGER REFERENCES user(user_id),\n",
    "    book_id INTEGER REFERENCES book(book_id),\n",
    "    time TIMESTAMP);''')\n",
    "con.commit()\n",
    "print('Table to_read created successfully')"
   ]
  },
  {
   "cell_type": "code",
   "execution_count": 171,
   "metadata": {},
   "outputs": [
    {
     "name": "stdout",
     "output_type": "stream",
     "text": [
      "Connetion established!\n"
     ]
    }
   ],
   "source": [
    "cur = con.cursor()\n",
    "print('Connetion established!')"
   ]
  }
 ],
 "metadata": {
  "kernelspec": {
   "display_name": "Python 3.9.12 ('base')",
   "language": "python",
   "name": "python3"
  },
  "language_info": {
   "codemirror_mode": {
    "name": "ipython",
    "version": 3
   },
   "file_extension": ".py",
   "mimetype": "text/x-python",
   "name": "python",
   "nbconvert_exporter": "python",
   "pygments_lexer": "ipython3",
   "version": "3.10.10"
  },
  "orig_nbformat": 4,
  "vscode": {
   "interpreter": {
    "hash": "40d3a090f54c6569ab1632332b64b2c03c39dcf918b08424e98f38b5ae0af88f"
   }
  }
 },
 "nbformat": 4,
 "nbformat_minor": 2
}
