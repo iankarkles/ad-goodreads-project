{
 "cells": [
  {
   "cell_type": "code",
   "execution_count": 3,
   "metadata": {},
   "outputs": [],
   "source": [
    "import pandas as pd\n",
    "import numpy as np\n",
    "import psycopg2\n",
    "from datetime import datetime\n",
    "import pandas.io.sql as sqlio\n",
    "import csv\n"
   ]
  },
  {
   "cell_type": "markdown",
   "metadata": {},
   "source": [
    "# Importar os CSV's"
   ]
  },
  {
   "cell_type": "code",
   "execution_count": 9,
   "metadata": {},
   "outputs": [],
   "source": [
    "# read data\n",
    "df = pd.read_csv('CSV Files/books.csv')\n",
    "#df = pd.read_csv(\"/Users/henriqueribeiro/Downloads/ad-goodreads-project-main/books.csv\", delimiter=';', low_memory=False)\n",
    "cols_to_drop = ['average_rating', 'ratings_1','ratings_2','ratings_3','ratings_4','ratings_5']\n",
    "df.drop(cols_to_drop, inplace=True, axis=1)\n",
    "\n",
    "\n"
   ]
  },
  {
   "cell_type": "code",
   "execution_count": 10,
   "metadata": {},
   "outputs": [
    {
     "data": {
      "text/html": [
       "<div>\n",
       "<style scoped>\n",
       "    .dataframe tbody tr th:only-of-type {\n",
       "        vertical-align: middle;\n",
       "    }\n",
       "\n",
       "    .dataframe tbody tr th {\n",
       "        vertical-align: top;\n",
       "    }\n",
       "\n",
       "    .dataframe thead th {\n",
       "        text-align: right;\n",
       "    }\n",
       "</style>\n",
       "<table border=\"1\" class=\"dataframe\">\n",
       "  <thead>\n",
       "    <tr style=\"text-align: right;\">\n",
       "      <th></th>\n",
       "      <th>book_id</th>\n",
       "      <th>goodreads_book_id</th>\n",
       "      <th>best_book_id</th>\n",
       "      <th>work_id</th>\n",
       "      <th>books_count</th>\n",
       "      <th>isbn</th>\n",
       "      <th>isbn13</th>\n",
       "      <th>original_title</th>\n",
       "      <th>title</th>\n",
       "      <th>language_code</th>\n",
       "      <th>ratings_count</th>\n",
       "      <th>work_ratings_count</th>\n",
       "      <th>work_text_reviews_count</th>\n",
       "    </tr>\n",
       "  </thead>\n",
       "  <tbody>\n",
       "    <tr>\n",
       "      <th>0</th>\n",
       "      <td>1</td>\n",
       "      <td>2767052</td>\n",
       "      <td>2767052</td>\n",
       "      <td>2792775</td>\n",
       "      <td>272</td>\n",
       "      <td>439023483</td>\n",
       "      <td>9.780439e+12</td>\n",
       "      <td>The Hunger Games</td>\n",
       "      <td>The Hunger Games (The Hunger Games, #1)</td>\n",
       "      <td>eng</td>\n",
       "      <td>4780653</td>\n",
       "      <td>4942365</td>\n",
       "      <td>155254</td>\n",
       "    </tr>\n",
       "    <tr>\n",
       "      <th>1</th>\n",
       "      <td>2</td>\n",
       "      <td>3</td>\n",
       "      <td>3</td>\n",
       "      <td>4640799</td>\n",
       "      <td>491</td>\n",
       "      <td>439554934</td>\n",
       "      <td>9.780440e+12</td>\n",
       "      <td>Harry Potter and the Philosopher's Stone</td>\n",
       "      <td>Harry Potter and the Sorcerer's Stone (Harry P...</td>\n",
       "      <td>eng</td>\n",
       "      <td>4602479</td>\n",
       "      <td>4800065</td>\n",
       "      <td>75867</td>\n",
       "    </tr>\n",
       "    <tr>\n",
       "      <th>2</th>\n",
       "      <td>3</td>\n",
       "      <td>41865</td>\n",
       "      <td>41865</td>\n",
       "      <td>3212258</td>\n",
       "      <td>226</td>\n",
       "      <td>316015849</td>\n",
       "      <td>9.780316e+12</td>\n",
       "      <td>Twilight</td>\n",
       "      <td>Twilight (Twilight, #1)</td>\n",
       "      <td>en-US</td>\n",
       "      <td>3866839</td>\n",
       "      <td>3916824</td>\n",
       "      <td>95009</td>\n",
       "    </tr>\n",
       "    <tr>\n",
       "      <th>3</th>\n",
       "      <td>4</td>\n",
       "      <td>2657</td>\n",
       "      <td>2657</td>\n",
       "      <td>3275794</td>\n",
       "      <td>487</td>\n",
       "      <td>61120081</td>\n",
       "      <td>9.780061e+12</td>\n",
       "      <td>To Kill a Mockingbird</td>\n",
       "      <td>To Kill a Mockingbird</td>\n",
       "      <td>eng</td>\n",
       "      <td>3198671</td>\n",
       "      <td>3340896</td>\n",
       "      <td>72586</td>\n",
       "    </tr>\n",
       "    <tr>\n",
       "      <th>4</th>\n",
       "      <td>5</td>\n",
       "      <td>4671</td>\n",
       "      <td>4671</td>\n",
       "      <td>245494</td>\n",
       "      <td>1356</td>\n",
       "      <td>743273567</td>\n",
       "      <td>9.780743e+12</td>\n",
       "      <td>The Great Gatsby</td>\n",
       "      <td>The Great Gatsby</td>\n",
       "      <td>eng</td>\n",
       "      <td>2683664</td>\n",
       "      <td>2773745</td>\n",
       "      <td>51992</td>\n",
       "    </tr>\n",
       "  </tbody>\n",
       "</table>\n",
       "</div>"
      ],
      "text/plain": [
       "   book_id  goodreads_book_id  best_book_id  work_id  books_count       isbn  \\\n",
       "0        1            2767052       2767052  2792775          272  439023483   \n",
       "1        2                  3             3  4640799          491  439554934   \n",
       "2        3              41865         41865  3212258          226  316015849   \n",
       "3        4               2657          2657  3275794          487   61120081   \n",
       "4        5               4671          4671   245494         1356  743273567   \n",
       "\n",
       "         isbn13                            original_title  \\\n",
       "0  9.780439e+12                          The Hunger Games   \n",
       "1  9.780440e+12  Harry Potter and the Philosopher's Stone   \n",
       "2  9.780316e+12                                  Twilight   \n",
       "3  9.780061e+12                     To Kill a Mockingbird   \n",
       "4  9.780743e+12                          The Great Gatsby   \n",
       "\n",
       "                                               title language_code  \\\n",
       "0            The Hunger Games (The Hunger Games, #1)           eng   \n",
       "1  Harry Potter and the Sorcerer's Stone (Harry P...           eng   \n",
       "2                            Twilight (Twilight, #1)         en-US   \n",
       "3                              To Kill a Mockingbird           eng   \n",
       "4                                   The Great Gatsby           eng   \n",
       "\n",
       "   ratings_count  work_ratings_count  work_text_reviews_count  \n",
       "0        4780653             4942365                   155254  \n",
       "1        4602479             4800065                    75867  \n",
       "2        3866839             3916824                    95009  \n",
       "3        3198671             3340896                    72586  \n",
       "4        2683664             2773745                    51992  "
      ]
     },
     "execution_count": 10,
     "metadata": {},
     "output_type": "execute_result"
    }
   ],
   "source": [
    "df.head()"
   ]
  },
  {
   "cell_type": "code",
   "execution_count": 11,
   "metadata": {},
   "outputs": [],
   "source": [
    "tags = pd.read_csv('CSV Files/tags.csv')\n"
   ]
  },
  {
   "cell_type": "code",
   "execution_count": 12,
   "metadata": {},
   "outputs": [
    {
     "data": {
      "text/html": [
       "<div>\n",
       "<style scoped>\n",
       "    .dataframe tbody tr th:only-of-type {\n",
       "        vertical-align: middle;\n",
       "    }\n",
       "\n",
       "    .dataframe tbody tr th {\n",
       "        vertical-align: top;\n",
       "    }\n",
       "\n",
       "    .dataframe thead th {\n",
       "        text-align: right;\n",
       "    }\n",
       "</style>\n",
       "<table border=\"1\" class=\"dataframe\">\n",
       "  <thead>\n",
       "    <tr style=\"text-align: right;\">\n",
       "      <th></th>\n",
       "      <th>tag_id</th>\n",
       "      <th>tag_name</th>\n",
       "    </tr>\n",
       "  </thead>\n",
       "  <tbody>\n",
       "    <tr>\n",
       "      <th>0</th>\n",
       "      <td>0</td>\n",
       "      <td>-</td>\n",
       "    </tr>\n",
       "    <tr>\n",
       "      <th>1</th>\n",
       "      <td>1</td>\n",
       "      <td>--1-</td>\n",
       "    </tr>\n",
       "    <tr>\n",
       "      <th>2</th>\n",
       "      <td>2</td>\n",
       "      <td>--10-</td>\n",
       "    </tr>\n",
       "    <tr>\n",
       "      <th>3</th>\n",
       "      <td>3</td>\n",
       "      <td>--12-</td>\n",
       "    </tr>\n",
       "    <tr>\n",
       "      <th>4</th>\n",
       "      <td>4</td>\n",
       "      <td>--122-</td>\n",
       "    </tr>\n",
       "  </tbody>\n",
       "</table>\n",
       "</div>"
      ],
      "text/plain": [
       "   tag_id tag_name\n",
       "0       0        -\n",
       "1       1     --1-\n",
       "2       2    --10-\n",
       "3       3    --12-\n",
       "4       4   --122-"
      ]
     },
     "execution_count": 12,
     "metadata": {},
     "output_type": "execute_result"
    }
   ],
   "source": [
    "tags.head(5)"
   ]
  },
  {
   "cell_type": "markdown",
   "metadata": {},
   "source": [
    "# Conectar à DB"
   ]
  },
  {
   "cell_type": "code",
   "execution_count": 170,
   "metadata": {},
   "outputs": [],
   "source": [
    "## connect to database\n",
    "con = psycopg2.connect(\n",
    "    database=\"fced_henrique_ribeiro\",             # your database is the same as your username\n",
    "    user=\"fced_henrique_ribeiro\",                 # your username\n",
    "    password=\"feup_dbm00\",             # your password\n",
    "    host=\"dbm.fe.up.pt\",\n",
    "    port=\"5433\",             # the database host\n",
    "    options='-c search_path=goodreads'  # use the schema you want to connect to\n",
    ")"
   ]
  },
  {
   "cell_type": "markdown",
   "metadata": {},
   "source": [
    "# Criação das Tabelas"
   ]
  },
  {
   "cell_type": "code",
   "execution_count": 70,
   "metadata": {},
   "outputs": [
    {
     "name": "stdout",
     "output_type": "stream",
     "text": [
      "Connetion established!\n"
     ]
    },
    {
     "ename": "DuplicateTable",
     "evalue": "relation \"book\" already exists\n",
     "output_type": "error",
     "traceback": [
      "\u001b[0;31m---------------------------------------------------------------------------\u001b[0m",
      "\u001b[0;31mDuplicateTable\u001b[0m                            Traceback (most recent call last)",
      "\u001b[1;32m/Users/henriqueribeiro/Desktop/LoadingData/data_loading.ipynb Cell 10\u001b[0m in \u001b[0;36m<cell line: 7>\u001b[0;34m()\u001b[0m\n\u001b[1;32m      <a href='vscode-notebook-cell:/Users/henriqueribeiro/Desktop/LoadingData/data_loading.ipynb#X12sZmlsZQ%3D%3D?line=1'>2</a>\u001b[0m \u001b[39mprint\u001b[39m(\u001b[39m'\u001b[39m\u001b[39mConnetion established!\u001b[39m\u001b[39m'\u001b[39m)\n\u001b[1;32m      <a href='vscode-notebook-cell:/Users/henriqueribeiro/Desktop/LoadingData/data_loading.ipynb#X12sZmlsZQ%3D%3D?line=5'>6</a>\u001b[0m \u001b[39m#Criação das tabelas\u001b[39;00m\n\u001b[0;32m----> <a href='vscode-notebook-cell:/Users/henriqueribeiro/Desktop/LoadingData/data_loading.ipynb#X12sZmlsZQ%3D%3D?line=6'>7</a>\u001b[0m cur\u001b[39m.\u001b[39;49mexecute(\u001b[39m'''\u001b[39;49m\u001b[39mCREATE TABLE book(\u001b[39;49m\n\u001b[1;32m      <a href='vscode-notebook-cell:/Users/henriqueribeiro/Desktop/LoadingData/data_loading.ipynb#X12sZmlsZQ%3D%3D?line=7'>8</a>\u001b[0m \u001b[39mbook_id INTEGER PRIMARY KEY UNIQUE, \u001b[39;49m\n\u001b[1;32m      <a href='vscode-notebook-cell:/Users/henriqueribeiro/Desktop/LoadingData/data_loading.ipynb#X12sZmlsZQ%3D%3D?line=8'>9</a>\u001b[0m \u001b[39mgoodreads_book_id INTEGER UNIQUE,\u001b[39;49m\n\u001b[1;32m     <a href='vscode-notebook-cell:/Users/henriqueribeiro/Desktop/LoadingData/data_loading.ipynb#X12sZmlsZQ%3D%3D?line=9'>10</a>\u001b[0m \u001b[39mbest_book_id INTEGER UNIQUE,\u001b[39;49m\n\u001b[1;32m     <a href='vscode-notebook-cell:/Users/henriqueribeiro/Desktop/LoadingData/data_loading.ipynb#X12sZmlsZQ%3D%3D?line=10'>11</a>\u001b[0m \u001b[39mwork_id INTEGER UNIQUE,\u001b[39;49m\n\u001b[1;32m     <a href='vscode-notebook-cell:/Users/henriqueribeiro/Desktop/LoadingData/data_loading.ipynb#X12sZmlsZQ%3D%3D?line=11'>12</a>\u001b[0m \u001b[39mbooks_count INTEGER,\u001b[39;49m\n\u001b[1;32m     <a href='vscode-notebook-cell:/Users/henriqueribeiro/Desktop/LoadingData/data_loading.ipynb#X12sZmlsZQ%3D%3D?line=12'>13</a>\u001b[0m \u001b[39misbn INTEGER,\u001b[39;49m\n\u001b[1;32m     <a href='vscode-notebook-cell:/Users/henriqueribeiro/Desktop/LoadingData/data_loading.ipynb#X12sZmlsZQ%3D%3D?line=13'>14</a>\u001b[0m \u001b[39misbn13 INTEGER,\u001b[39;49m\n\u001b[1;32m     <a href='vscode-notebook-cell:/Users/henriqueribeiro/Desktop/LoadingData/data_loading.ipynb#X12sZmlsZQ%3D%3D?line=14'>15</a>\u001b[0m \u001b[39moriginal_title VARCHAR(255),\u001b[39;49m\n\u001b[1;32m     <a href='vscode-notebook-cell:/Users/henriqueribeiro/Desktop/LoadingData/data_loading.ipynb#X12sZmlsZQ%3D%3D?line=15'>16</a>\u001b[0m \u001b[39mtitle VARCHAR(255),\u001b[39;49m\n\u001b[1;32m     <a href='vscode-notebook-cell:/Users/henriqueribeiro/Desktop/LoadingData/data_loading.ipynb#X12sZmlsZQ%3D%3D?line=16'>17</a>\u001b[0m \u001b[39mlanguage_code VARCHAR(255));\u001b[39;49m\n\u001b[1;32m     <a href='vscode-notebook-cell:/Users/henriqueribeiro/Desktop/LoadingData/data_loading.ipynb#X12sZmlsZQ%3D%3D?line=17'>18</a>\u001b[0m \u001b[39m'''\u001b[39;49m)\n\u001b[1;32m     <a href='vscode-notebook-cell:/Users/henriqueribeiro/Desktop/LoadingData/data_loading.ipynb#X12sZmlsZQ%3D%3D?line=18'>19</a>\u001b[0m \u001b[39mprint\u001b[39m(\u001b[39m\"\u001b[39m\u001b[39mTable book created successfully\u001b[39m\u001b[39m\"\u001b[39m)\n",
      "\u001b[0;31mDuplicateTable\u001b[0m: relation \"book\" already exists\n"
     ]
    }
   ],
   "source": [
    "cur = con.cursor()\n",
    "print('Connetion established!')\n",
    "\n",
    "\n",
    "\n",
    "#Criação das tabelas\n",
    "cur.execute('''CREATE TABLE book(\n",
    "book_id INTEGER PRIMARY KEY UNIQUE, \n",
    "goodreads_book_id INTEGER UNIQUE,\n",
    "best_book_id INTEGER UNIQUE,\n",
    "work_id INTEGER UNIQUE,\n",
    "books_count INTEGER,\n",
    "isbn NUMERIC(15,2),\n",
    "isbn13 NUMERIC(15,2),\n",
    "original_title VARCHAR(255),\n",
    "title VARCHAR(255),\n",
    "language_code VARCHAR(255));\n",
    "''')\n",
    "print(\"Table book created successfully\")\n",
    "\n",
    "\n",
    "\n"
   ]
  },
  {
   "cell_type": "code",
   "execution_count": null,
   "metadata": {},
   "outputs": [],
   "source": [
    "#Criação da tabela tags\n",
    "cur.execute('''CREATE TABLE tag(\n",
    "    tag_id INTEGER PRIMARY KEY UNIQUE,\n",
    "    tag_name VARCHAR(255));\n",
    "''')\n",
    "print(\"Table tag created successfully\")\n"
   ]
  },
  {
   "cell_type": "code",
   "execution_count": null,
   "metadata": {},
   "outputs": [],
   "source": [
    "#Criação da tabela books_tags\n",
    "\n",
    "cur.execute('''CREATE TABLE book_tags(\n",
    "    goodreads_book_id INTEGER REFERENCES book(goodreads_book_id),\n",
    "    tag_id INTEGER REFERENCES tag(tag_id),\n",
    "    count INTEGER;''')\n",
    "print(\"Table book_tags created successfully\")\n"
   ]
  },
  {
   "cell_type": "code",
   "execution_count": null,
   "metadata": {},
   "outputs": [],
   "source": [
    "#criação da tabela authors\n",
    "cur.execute('''CREATE TABLE author(\n",
    "    author_id INTEGER PRIMARY KEY UNIQUE,\n",
    "    name VARCHAR(255) UNIQUE\n",
    "    Address VARCHAR(255),\n",
    "    Sex VARCHAR(255),\n",
    "    email VARCHAR(255),\n",
    "    );''')\n",
    "print(\"Table author created successfully\")"
   ]
  },
  {
   "cell_type": "code",
   "execution_count": null,
   "metadata": {},
   "outputs": [],
   "source": [
    "#criação da tabela books_authors\n",
    "cur.execute('''CREATE TABLE authorship(\n",
    "    book_id INTEGER REFERENCES book(book_id),\n",
    "    author_id INTEGER REFERENCES author(author_id),\n",
    "    publication_year INTEGER\n",
    "    );''')\n",
    "print('Table authorship created successfully')"
   ]
  },
  {
   "cell_type": "code",
   "execution_count": null,
   "metadata": {},
   "outputs": [],
   "source": [
    "#criação da tabela users\n",
    "\n",
    "cur.execute('''CREATE TABLE user(\n",
    "    user_id INTEGER PRIMARY KEY UNIQUE,\n",
    "    sex VARCHAR(255),\n",
    "    name VARCHAR(255) UNIQUE,\n",
    "    email VARCHAR(255),\n",
    "    address VARCHAR(255),\n",
    "    phone_number INTEGER,\n",
    "    );''')\n",
    "print('Table user created successfully')\n"
   ]
  },
  {
   "cell_type": "code",
   "execution_count": null,
   "metadata": {},
   "outputs": [],
   "source": [
    "#criação da tabela to_read\n",
    "\n",
    "cur.execute('''CREATE TABLE to_read(\n",
    "    user_id INTEGER REFERENCES user(user_id),\n",
    "    book_id INTEGER REFERENCES book(book_id),\n",
    "    time TIMESTAMP);''')\n",
    "\n",
    "print('Table to_read created successfully')"
   ]
  },
  {
   "cell_type": "markdown",
   "metadata": {},
   "source": [
    "# Popular as tabelas"
   ]
  },
  {
   "cell_type": "code",
   "execution_count": 171,
   "metadata": {},
   "outputs": [
    {
     "name": "stdout",
     "output_type": "stream",
     "text": [
      "Connetion established!\n"
     ]
    }
   ],
   "source": [
    "cur = con.cursor()\n",
    "print('Connetion established!')"
   ]
  },
  {
   "cell_type": "code",
   "execution_count": 105,
   "metadata": {},
   "outputs": [
    {
     "name": "stdout",
     "output_type": "stream",
     "text": [
      "Table tag loaded successfully\n"
     ]
    }
   ],
   "source": [
    "with open('/Users/henriqueribeiro/Downloads/ad-goodreads-project-main/tags.csv', 'r') as f:\n",
    "    next(f) # Skip the header row.\n",
    "    cur.copy_from(f, 'tag', sep=';', columns=('tag_id', 'tag_name'))\n",
    "con.commit()\n",
    "print(\"Table tag loaded successfully\")\n"
   ]
  },
  {
   "cell_type": "code",
   "execution_count": 172,
   "metadata": {},
   "outputs": [
    {
     "name": "stdout",
     "output_type": "stream",
     "text": [
      "Table book loaded successfully\n"
     ]
    }
   ],
   "source": [
    "#load data into table book\n",
    "with open('/Users/henriqueribeiro/Downloads/ad-goodreads-project-main/books.csv', 'r') as f:\n",
    "    next(f) # Skip the header row.\n",
    "    cur.copy_from(f, 'book', sep=';', columns=('book_id', 'goodreads_book_id','best_book_id','work_id','books_count','isbn','isbn13','original_title','title','language_code'))\n",
    "con.commit()\n",
    "\n",
    "print(\"Table book loaded successfully\")\n",
    "\n",
    "\n"
   ]
  },
  {
   "cell_type": "code",
   "execution_count": 173,
   "metadata": {},
   "outputs": [
    {
     "name": "stdout",
     "output_type": "stream",
     "text": [
      "Table book_tags loaded successfully\n"
     ]
    }
   ],
   "source": [
    "#load data into table book_tags\n",
    "with open('/Users/henriqueribeiro/Downloads/ad-goodreads-project-main/book_tags.csv', 'r') as f:\n",
    "    next(f) # Skip the header row.\n",
    "    cur.copy_from(f, 'book_tags', sep=';', columns=('goodreads_book_id', 'tag_id','count'))\n",
    "con.commit()\n",
    "\n",
    "print(\"Table book_tags loaded successfully\")"
   ]
  },
  {
   "cell_type": "code",
   "execution_count": 169,
   "metadata": {},
   "outputs": [],
   "source": [
    "\n",
    "#close the connection\n",
    "con.close()"
   ]
  },
  {
   "cell_type": "code",
   "execution_count": null,
   "metadata": {},
   "outputs": [],
   "source": [
    "\n",
    "\n",
    "# now = datetime.now() \n",
    "# print(\"Time Started =\", now)\n",
    "\n",
    "\n",
    "# read data\n",
    "# df = pd.read_csv(\"/Users/henriqueribeiro/Desktop/AD - Projeto/ad-goodreads-project/.books.csv.icloud\", low_memory=False)\n",
    "# df.drop_duplicates(inplace=True, ignore_index=True)\n",
    "# cols_to_drop = ['average_rating', 'rating_1','rating_2,','rating_3','rating_4','rating_5','image_url','small_image_url']\n",
    "\n",
    "\n",
    "# # def trf(offtime_):\n",
    "# #     position = offtime_.find(\"s\")\n",
    "# #     offtime = offtime_[position + 2:]\n",
    "# #     position = offtime.find(\".\")\n",
    "# #     offtime = offtime[:position]\n",
    "# #     offtime = datetime.strptime(offtime, '%H:%M:%S')\n",
    "# #     return offtime\n",
    "# #df = df.where(pd.notnull(df), None)\n",
    "# df[\"official_time\"]=df[\"official_time\"].apply(trf)\n",
    "# df[\"official_time\"]=pd.to_datetime(df[\"official_time\"], format='%H:%M:%S')\n",
    "# df[\"net_time\"]=df[\"net_time\"].apply(lambda x: trf(x) if isinstance(x, str) else None)\n",
    "# df['net_time']=df['net_time'].replace({np.nan: None}, inplace = True)\n",
    "# df[\"official_time\"]=pd.to_datetime(df[\"official_time\"], format='%H:%M:%S')\n",
    "# df['birth_date']=df['birth_date'].apply(lambda x: datetime.strptime(x, \"%d/%m/%Y\"))\n",
    "# df['distance'] = df['distance'].astype(int)\n",
    "\n",
    "\n",
    "# # prepare data\n",
    "# teams = pd.DataFrame(df['team'].dropna().unique(), dtype=\"string\")\n",
    "# teams = teams.dropna()\n",
    "# #print(teams)\n",
    "\n",
    "#teams = teams[~np.isnan(teams)]\n",
    "# runners = df[[\"name\", \"birth_date\", \"sex\", \"nation\"]]\n",
    "# runners = runners.drop_duplicates(ignore_index=True)\n",
    "# events = df[[\"event\", \"distance\"]]\n",
    "# events = events.drop_duplicates(ignore_index=True)\n",
    "\n",
    "\n",
    "\n",
    "\n",
    "cur = con.cursor()\n",
    "print('connetion established')\n",
    "## delete current entries\n",
    "# cur.execute(\"TRUNCATE event CASCADE\")\n",
    "# cur.execute(\"TRUNCATE runner CASCADE\")\n",
    "# cur.execute(\"TRUNCATE team CASCADE\")\n",
    "# cur.execute(\"TRUNCATE race\")\n",
    "# con.commit()\n",
    "\n",
    "# print('Tables empty')\n",
    "# load teams\n",
    "book_id = df['book_id']\n",
    "with cur.copy(\"COPY team(team_name) FROM STDIN\") as copy:\n",
    "    for b_id in book_id:\n",
    "        copy.write_row(book_id)\n",
    "con.commit()\n",
    "print(\"Book ID's loaded\")\n",
    "\n",
    "#events\n",
    "\n",
    "events = list(events.itertuples(index=False, name=None))\n",
    "with cur.copy(\"COPY event(event, distance) FROM STDIN\") as copy:\n",
    "    for e in events:\n",
    "        copy.write_row(e)\n",
    "con.commit()\n",
    "print(\"Events loaded\")\n",
    "\n",
    "#runners\n",
    "runners = list(runners.itertuples(index=False, name=None))\n",
    "with cur.copy(\"COPY runner(name, birth_date, sex, nation) FROM STDIN\") as copy:\n",
    "    for r in runners:\n",
    "        copy.write_row(r)\n",
    "con.commit()\n",
    "print(\"Runners loaded\")\n",
    "\n",
    "#races\n",
    "eventr = sqlio.read_sql_query(\"SELECT * FROM event\", con)\n",
    "eventr['distance'] = eventr['distance'].astype(int)\n",
    "runnerr = sqlio.read_sql_query(\"SELECT * FROM runner\", con)\n",
    "teamr  = sqlio.read_sql_query(\"SELECT * FROM team\", con)\n",
    "runnerr['birth_date']=pd.to_datetime(runnerr['birth_date'])\n",
    "r_merge = pd.merge(df, runnerr, how = 'left', on = ['name', 'birth_date', 'nation', 'sex'])\n",
    "event_merge = pd.merge(r_merge, eventr, how = 'left', on = ['event', 'distance'])\n",
    "team_merge = pd.merge(event_merge, teamr, how = 'left', left_on='team', right_on='team_name') \n",
    "team_merge['o_time'] = team_merge['official_time']\n",
    "team_merge['n_time'] = team_merge['net_time']\n",
    "team_merge = team_merge.where(pd.notnull(team_merge), None)\n",
    "races = team_merge[['e_id', 'ru_id', 'team_name', 'event_year', 'bib', 'age_class', 'place', 'place_in_class', 'o_time', 'n_time']]\n",
    "\n",
    "races = list(races.itertuples(index=False, name=None))\n",
    "with cur.copy(\"COPY race(e_id, ru_id, team_name, event_year, bib, age_class, place, place_in_class, o_time, n_time) FROM STDIN\") as copy:\n",
    "    for r in races:\n",
    "        copy.write_row(r)\n",
    "con.commit()\n",
    "print(\"Races loaded\")\n",
    "con.close()\n",
    "now = datetime.now() \n",
    "print(\"Time Ended =\", now)"
   ]
  }
 ],
 "metadata": {
  "kernelspec": {
   "display_name": "Python 3.9.12 ('base')",
   "language": "python",
   "name": "python3"
  },
  "language_info": {
   "codemirror_mode": {
    "name": "ipython",
    "version": 3
   },
   "file_extension": ".py",
   "mimetype": "text/x-python",
   "name": "python",
   "nbconvert_exporter": "python",
   "pygments_lexer": "ipython3",
   "version": "3.10.10"
  },
  "orig_nbformat": 4,
  "vscode": {
   "interpreter": {
    "hash": "40d3a090f54c6569ab1632332b64b2c03c39dcf918b08424e98f38b5ae0af88f"
   }
  }
 },
 "nbformat": 4,
 "nbformat_minor": 2
}
