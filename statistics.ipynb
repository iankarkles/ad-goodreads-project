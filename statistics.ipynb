{
 "cells": [
  {
   "cell_type": "code",
   "execution_count": 1,
   "metadata": {},
   "outputs": [],
   "source": [
    "import pandas as pd"
   ]
  },
  {
   "cell_type": "code",
   "execution_count": 3,
   "metadata": {},
   "outputs": [],
   "source": [
    "books = pd.read_csv('CSV Files/books.csv')\n",
    "ratings = pd.read_csv('CSV Files/ratings_merged.csv')\n",
    "ratings = ratings.drop('Unnamed: 0', axis=1)\n",
    "time = pd.read_csv('CSV Files/time.csv')\n",
    "time = time.drop('Unnamed: 0', axis=1)\n",
    "### keep the first and the last 9 columns of book\n",
    "stats = books.iloc[:, [0,-11, -10, -7, -6, -5, -4, -3]]"
   ]
  },
  {
   "cell_type": "code",
   "execution_count": 4,
   "metadata": {},
   "outputs": [],
   "source": [
    "#Merge ratings and time on left time_id on right id\n",
    "ratings = pd.merge(ratings, time, left_on='time_id', right_on='id').drop(columns=['id', 'flag'], axis=1)\n",
    "\n",
    "### create dummy columns from the rating column\n",
    "ratings = pd.get_dummies(ratings, columns=['rating'])\n",
    "\n",
    "#Create a new dataframe with the following calculations: count of ratings, mean of ratings, and sum of ratings and sum of ratings 1-5\n",
    "df_ratings = ratings.groupby(['book_id','year']).agg({'rating_1': 'sum', 'rating_2': 'sum', 'rating_3': 'sum', 'rating_4': 'sum', 'rating_5': 'sum'})\n",
    "\n",
    "# Add total of votes per year\n",
    "df_ratings['count'] = df_ratings['rating_1'] + df_ratings['rating_2'] + df_ratings['rating_3'] + df_ratings['rating_4'] + df_ratings['rating_5']\n",
    "\n",
    "# Add sum of votes per year (weighted sum)\n",
    "df_ratings['ratings_sum'] = (df_ratings['rating_1']*1 + df_ratings['rating_2']*2 + df_ratings['rating_3']*3 + df_ratings['rating_4']*4 + df_ratings['rating_5']*5)\n",
    "\n",
    "# Add the average rating per year\n",
    "df_ratings['avg_rating'] = (df_ratings['rating_1']*1 + df_ratings['rating_2']*2 + df_ratings['rating_3']*3 + df_ratings['rating_4']*4 + df_ratings['rating_5']*5) / df_ratings['count']\n",
    "\n",
    "# Convert floats to int\n",
    "df_ratings['rating_1'] = df_ratings['rating_1'].astype(int)\n",
    "df_ratings['rating_2'] = df_ratings['rating_2'].astype(int)\n",
    "df_ratings['rating_3'] = df_ratings['rating_3'].astype(int)\n",
    "df_ratings['rating_4'] = df_ratings['rating_4'].astype(int)\n",
    "df_ratings['rating_5'] = df_ratings['rating_5'].astype(int)\n",
    "df_ratings['count'] = df_ratings['count'].astype(int)\n",
    "df_ratings['ratings_sum'] = df_ratings['ratings_sum'].astype(int)\n",
    "\n",
    "# Save to csv\n",
    "df_ratings.to_csv('CSV Files/statistics_ratings.csv')"
   ]
  },
  {
   "cell_type": "code",
   "execution_count": 5,
   "metadata": {},
   "outputs": [],
   "source": [
    "df_statistics = pd.read_csv('CSV Files/statistics_ratings.csv')"
   ]
  }
 ],
 "metadata": {
  "kernelspec": {
   "display_name": "base",
   "language": "python",
   "name": "python3"
  },
  "language_info": {
   "codemirror_mode": {
    "name": "ipython",
    "version": 3
   },
   "file_extension": ".py",
   "mimetype": "text/x-python",
   "name": "python",
   "nbconvert_exporter": "python",
   "pygments_lexer": "ipython3",
   "version": "3.9.12"
  },
  "orig_nbformat": 4
 },
 "nbformat": 4,
 "nbformat_minor": 2
}
