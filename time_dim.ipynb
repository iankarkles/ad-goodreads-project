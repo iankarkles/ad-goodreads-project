{
 "cells": [
  {
   "cell_type": "code",
   "execution_count": 143,
   "metadata": {},
   "outputs": [],
   "source": [
    "import pandas as pd"
   ]
  },
  {
   "cell_type": "code",
   "execution_count": 163,
   "metadata": {},
   "outputs": [],
   "source": [
    "authors = pd.read_csv('CSV Files/authors.csv', index_col='author_id')\n",
    "authorship = pd.read_csv('CSV Files/authorship.csv')\n",
    "books = pd.read_csv('CSV Files/books.csv', index_col='book_id')\n",
    "book_tags = pd.read_csv('CSV Files/book_tags.csv')\n",
    "ratings = pd.read_csv('CSV Files/ratings_with_date.csv')\n",
    "tags = pd.read_csv('CSV Files/tags.csv', index_col='tag_id')\n",
    "to_read = pd.read_csv('CSV Files/to_read.csv')\n",
    "users = pd.read_csv('CSV Files/user.csv', index_col='user_id')"
   ]
  },
  {
   "cell_type": "code",
   "execution_count": 146,
   "metadata": {},
   "outputs": [],
   "source": [
    "ratings.head()\n",
    "ratings['date'] = pd.to_datetime(ratings['date'])"
   ]
  },
  {
   "cell_type": "code",
   "execution_count": 147,
   "metadata": {},
   "outputs": [
    {
     "name": "stderr",
     "output_type": "stream",
     "text": [
      "c:\\Users\\iankk\\Anaconda3\\lib\\site-packages\\ipykernel_launcher.py:5: FutureWarning: Inferring datetime64[ns] from data containing strings is deprecated and will be removed in a future version. To retain the old behavior explicitly pass Series(data, dtype={value.dtype})\n",
      "  \"\"\"\n",
      "c:\\Users\\iankk\\Anaconda3\\lib\\site-packages\\ipykernel_launcher.py:13: SettingWithCopyWarning: \n",
      "A value is trying to be set on a copy of a slice from a DataFrame.\n",
      "Try using .loc[row_indexer,col_indexer] = value instead\n",
      "\n",
      "See the caveats in the documentation: https://pandas.pydata.org/pandas-docs/stable/user_guide/indexing.html#returning-a-view-versus-a-copy\n",
      "  del sys.path[0]\n"
     ]
    }
   ],
   "source": [
    "# Create time dimension\n",
    "time = pd.DataFrame()\n",
    "time = pd.concat([ratings['date'], to_read['date'], users['birthdate']])\n",
    "time.dropna(inplace=True)\n",
    "time.drop_duplicates(inplace=True)\n",
    "time = pd.DataFrame(time)\n",
    "time.rename(columns={0: 'date'}, inplace=True)\n",
    "time['id'] = time.index + 1\n",
    "time['year'] = time['date'].dt.year\n",
    "time['month'] = time['date'].dt.month\n",
    "time['day'] = time['date'].dt.day\n",
    "time = time[['id', 'date', 'year', 'month', 'day']]\n",
    "time_id = time[['id', 'date']]\n",
    "time_id['date'] = time_id['date'].astype(str)"
   ]
  },
  {
   "cell_type": "code",
   "execution_count": 165,
   "metadata": {},
   "outputs": [],
   "source": [
    "# join time_id and to_read\n",
    "to_read['date'] = to_read['date'].astype(str)\n",
    "to_read = to_read.merge(time_id, how='inner', left_on='date', right_on='date')\n",
    "to_read.rename(columns={'id': 'time_id'}, inplace=True)\n",
    "to_read.drop(columns=['date'], inplace=True)"
   ]
  },
  {
   "cell_type": "code",
   "execution_count": 168,
   "metadata": {},
   "outputs": [],
   "source": [
    "# join time_id and ratings\n",
    "ratings['date'] = ratings['date'].astype(str)\n",
    "ratings = ratings.merge(time_id, how='inner', left_on='date', right_on='date')\n",
    "ratings.rename(columns={'id': 'time_id'}, inplace=True)\n",
    "ratings.drop(columns=['date'], inplace=True)"
   ]
  },
  {
   "cell_type": "code",
   "execution_count": 169,
   "metadata": {},
   "outputs": [],
   "source": [
    "# join time_id and users\n",
    "users['birthdate'] = users['birthdate'].astype(str)\n",
    "users = users.merge(time_id, how='inner', left_on='birthdate', right_on='date')\n",
    "users.rename(columns={'id': 'time_id'}, inplace=True)\n",
    "users.drop(columns=['date', 'birthdate'], inplace=True)\n",
    "users.rename(columns={'time_id': 'birthday_id'}, inplace=True)"
   ]
  }
 ],
 "metadata": {
  "kernelspec": {
   "display_name": "base",
   "language": "python",
   "name": "python3"
  },
  "language_info": {
   "codemirror_mode": {
    "name": "ipython",
    "version": 3
   },
   "file_extension": ".py",
   "mimetype": "text/x-python",
   "name": "python",
   "nbconvert_exporter": "python",
   "pygments_lexer": "ipython3",
   "version": "3.7.16"
  },
  "orig_nbformat": 4
 },
 "nbformat": 4,
 "nbformat_minor": 2
}
