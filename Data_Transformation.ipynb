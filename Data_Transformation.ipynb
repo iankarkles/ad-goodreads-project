{
 "cells": [
  {
   "cell_type": "code",
   "execution_count": 4,
   "metadata": {},
   "outputs": [],
   "source": [
    "import random\n",
    "import pandas as pd\n",
    "import time\n",
    "import numpy as np\n",
    "import datetime\n",
    "from faker import Faker\n"
   ]
  },
  {
   "cell_type": "code",
   "execution_count": 32,
   "metadata": {},
   "outputs": [
    {
     "data": {
      "text/plain": [
       "\"\\n# Fill the new column with random dates\\ndf['date'] = [fake.date_between(start_date=start_date, end_date=end_date) for _ in range(len(df))]\\ndf.to_csv('ratings_with_date.csv', index=False)\\n\""
      ]
     },
     "execution_count": 32,
     "metadata": {},
     "output_type": "execute_result"
    }
   ],
   "source": [
    "\n",
    "# Create a new column with random dates values between 2010 and 2019\n",
    "df = pd.read_csv('ratings.csv')\n",
    "fake = Faker()\n",
    "Faker.seed(54321)\n",
    "start_date = datetime.date(year=2010, month=1, day=1)\n",
    "end_date = datetime.date(year=2019, month=12, day=31)\n",
    "fake.date_between(start_date=start_date, end_date=end_date)\n",
    "'''\n",
    "# Fill the new column with random dates\n",
    "df['date'] = [fake.date_between(start_date=start_date, end_date=end_date) for _ in range(len(df))]\n",
    "df.to_csv('ratings_with_date.csv', index=False)\n",
    "'''"
   ]
  },
  {
   "cell_type": "code",
   "execution_count": 8,
   "metadata": {},
   "outputs": [],
   "source": [
    "# 1º Fix the rating date to be larger than the date of publication of the book. - ok\n",
    "# 2º Fix to read Date be larger than the date of publication of the book. - ok\n",
    "# 3º Fix the rating date and to read date to be larger than the user 10 year old\n",
    "\n",
    "\n",
    "### 1º Fix the rating date to be larger than the date of publication of the book. - ok\n",
    "books = pd.read_csv('books.csv')\n",
    "ratings = pd.read_csv('ratings_with_date.csv')\n",
    "ratings_date = ratings[['user_id','book_id','date']]\n",
    "publication_date = books[['book_id','original_publication_year']]\n",
    "merged_df = ratings_date.merge(publication_date, left_on='book_id', right_on='book_id', how='inner')\n",
    "merged_df['original_publication_datetime'] = 0\n",
    "merged_df['date'] = pd.to_datetime(merged_df['date'])"
   ]
  },
  {
   "cell_type": "code",
   "execution_count": 9,
   "metadata": {},
   "outputs": [
    {
     "name": "stderr",
     "output_type": "stream",
     "text": [
      "c:\\Users\\iankk\\Anaconda3\\lib\\site-packages\\ipykernel_launcher.py:7: SettingWithCopyWarning: \n",
      "A value is trying to be set on a copy of a slice from a DataFrame\n",
      "\n",
      "See the caveats in the documentation: https://pandas.pydata.org/pandas-docs/stable/user_guide/indexing.html#returning-a-view-versus-a-copy\n",
      "  import sys\n"
     ]
    }
   ],
   "source": [
    "for i in range(len(merged_df)):\n",
    "    if merged_df['original_publication_year'][i] < 1: # If the book was published before 1 AD\n",
    "        merged_df['original_publication_datetime'][i] = datetime.date(year=1, month=1, day=1)\n",
    "    elif np.isnan(merged_df['original_publication_year'][i]) == True: # If the book was published before 1 AD\n",
    "        merged_df['original_publication_datetime'][i] = datetime.date(year=1, month=1, day=1)\n",
    "    else: # If the book was published after 1 AD\n",
    "        merged_df['original_publication_datetime'][i] = datetime.date(year=int(merged_df['original_publication_year'][i]), month=1, day=1)\n"
   ]
  },
  {
   "cell_type": "code",
   "execution_count": 22,
   "metadata": {},
   "outputs": [
    {
     "name": "stderr",
     "output_type": "stream",
     "text": [
      "c:\\Users\\iankk\\Anaconda3\\lib\\site-packages\\ipykernel_launcher.py:2: FutureWarning: Comparison of Timestamp with datetime.date is deprecated in order to match the standard library behavior.  In a future version these will be considered non-comparable.Use 'ts == pd.Timestamp(date)' or 'ts.date() == date' instead.\n",
      "  \n",
      "c:\\Users\\iankk\\Anaconda3\\lib\\site-packages\\ipykernel_launcher.py:3: SettingWithCopyWarning: \n",
      "A value is trying to be set on a copy of a slice from a DataFrame\n",
      "\n",
      "See the caveats in the documentation: https://pandas.pydata.org/pandas-docs/stable/user_guide/indexing.html#returning-a-view-versus-a-copy\n",
      "  This is separate from the ipykernel package so we can avoid doing imports until\n"
     ]
    }
   ],
   "source": [
    "for i in range(len(merged_df)):\n",
    "    if merged_df['date'][i] < merged_df['original_publication_datetime'][i]:\n",
    "        merged_df['date'][i] = merged_df['original_publication_datetime'][i] + datetime.timedelta(days=random.randint(1, 365*10))\n",
    "    else:\n",
    "        pass"
   ]
  },
  {
   "cell_type": "code",
   "execution_count": 21,
   "metadata": {},
   "outputs": [
    {
     "data": {
      "text/plain": [
       "5976479"
      ]
     },
     "execution_count": 21,
     "metadata": {},
     "output_type": "execute_result"
    }
   ],
   "source": [
    "len(merged_df)"
   ]
  },
  {
   "cell_type": "code",
   "execution_count": 23,
   "metadata": {},
   "outputs": [
    {
     "data": {
      "text/html": [
       "<div>\n",
       "<style scoped>\n",
       "    .dataframe tbody tr th:only-of-type {\n",
       "        vertical-align: middle;\n",
       "    }\n",
       "\n",
       "    .dataframe tbody tr th {\n",
       "        vertical-align: top;\n",
       "    }\n",
       "\n",
       "    .dataframe thead th {\n",
       "        text-align: right;\n",
       "    }\n",
       "</style>\n",
       "<table border=\"1\" class=\"dataframe\">\n",
       "  <thead>\n",
       "    <tr style=\"text-align: right;\">\n",
       "      <th></th>\n",
       "      <th>user_id</th>\n",
       "      <th>book_id</th>\n",
       "      <th>date</th>\n",
       "      <th>original_publication_year</th>\n",
       "      <th>original_publication_datetime</th>\n",
       "    </tr>\n",
       "  </thead>\n",
       "  <tbody>\n",
       "    <tr>\n",
       "      <th>0</th>\n",
       "      <td>1</td>\n",
       "      <td>258</td>\n",
       "      <td>2014-04-02 00:00:00</td>\n",
       "      <td>2001.0</td>\n",
       "      <td>2001-01-01</td>\n",
       "    </tr>\n",
       "    <tr>\n",
       "      <th>1</th>\n",
       "      <td>11</td>\n",
       "      <td>258</td>\n",
       "      <td>2011-01-26 00:00:00</td>\n",
       "      <td>2001.0</td>\n",
       "      <td>2001-01-01</td>\n",
       "    </tr>\n",
       "    <tr>\n",
       "      <th>2</th>\n",
       "      <td>143</td>\n",
       "      <td>258</td>\n",
       "      <td>2017-10-16 00:00:00</td>\n",
       "      <td>2001.0</td>\n",
       "      <td>2001-01-01</td>\n",
       "    </tr>\n",
       "    <tr>\n",
       "      <th>3</th>\n",
       "      <td>242</td>\n",
       "      <td>258</td>\n",
       "      <td>2014-06-08 00:00:00</td>\n",
       "      <td>2001.0</td>\n",
       "      <td>2001-01-01</td>\n",
       "    </tr>\n",
       "    <tr>\n",
       "      <th>4</th>\n",
       "      <td>325</td>\n",
       "      <td>258</td>\n",
       "      <td>2012-06-29 00:00:00</td>\n",
       "      <td>2001.0</td>\n",
       "      <td>2001-01-01</td>\n",
       "    </tr>\n",
       "    <tr>\n",
       "      <th>...</th>\n",
       "      <td>...</td>\n",
       "      <td>...</td>\n",
       "      <td>...</td>\n",
       "      <td>...</td>\n",
       "      <td>...</td>\n",
       "    </tr>\n",
       "    <tr>\n",
       "      <th>5976474</th>\n",
       "      <td>36773</td>\n",
       "      <td>9548</td>\n",
       "      <td>2019-11-16 00:00:00</td>\n",
       "      <td>2016.0</td>\n",
       "      <td>2016-01-01</td>\n",
       "    </tr>\n",
       "    <tr>\n",
       "      <th>5976475</th>\n",
       "      <td>50673</td>\n",
       "      <td>9548</td>\n",
       "      <td>2018-09-14</td>\n",
       "      <td>2016.0</td>\n",
       "      <td>2016-01-01</td>\n",
       "    </tr>\n",
       "    <tr>\n",
       "      <th>5976476</th>\n",
       "      <td>45213</td>\n",
       "      <td>9548</td>\n",
       "      <td>2016-04-08 00:00:00</td>\n",
       "      <td>2016.0</td>\n",
       "      <td>2016-01-01</td>\n",
       "    </tr>\n",
       "    <tr>\n",
       "      <th>5976477</th>\n",
       "      <td>12872</td>\n",
       "      <td>9548</td>\n",
       "      <td>2018-06-27</td>\n",
       "      <td>2016.0</td>\n",
       "      <td>2016-01-01</td>\n",
       "    </tr>\n",
       "    <tr>\n",
       "      <th>5976478</th>\n",
       "      <td>46353</td>\n",
       "      <td>9548</td>\n",
       "      <td>2025-01-10</td>\n",
       "      <td>2016.0</td>\n",
       "      <td>2016-01-01</td>\n",
       "    </tr>\n",
       "  </tbody>\n",
       "</table>\n",
       "<p>5976479 rows × 5 columns</p>\n",
       "</div>"
      ],
      "text/plain": [
       "         user_id  book_id                 date  original_publication_year  \\\n",
       "0              1      258  2014-04-02 00:00:00                     2001.0   \n",
       "1             11      258  2011-01-26 00:00:00                     2001.0   \n",
       "2            143      258  2017-10-16 00:00:00                     2001.0   \n",
       "3            242      258  2014-06-08 00:00:00                     2001.0   \n",
       "4            325      258  2012-06-29 00:00:00                     2001.0   \n",
       "...          ...      ...                  ...                        ...   \n",
       "5976474    36773     9548  2019-11-16 00:00:00                     2016.0   \n",
       "5976475    50673     9548           2018-09-14                     2016.0   \n",
       "5976476    45213     9548  2016-04-08 00:00:00                     2016.0   \n",
       "5976477    12872     9548           2018-06-27                     2016.0   \n",
       "5976478    46353     9548           2025-01-10                     2016.0   \n",
       "\n",
       "        original_publication_datetime  \n",
       "0                          2001-01-01  \n",
       "1                          2001-01-01  \n",
       "2                          2001-01-01  \n",
       "3                          2001-01-01  \n",
       "4                          2001-01-01  \n",
       "...                               ...  \n",
       "5976474                    2016-01-01  \n",
       "5976475                    2016-01-01  \n",
       "5976476                    2016-01-01  \n",
       "5976477                    2016-01-01  \n",
       "5976478                    2016-01-01  \n",
       "\n",
       "[5976479 rows x 5 columns]"
      ]
     },
     "execution_count": 23,
     "metadata": {},
     "output_type": "execute_result"
    }
   ],
   "source": [
    "merged_dffor i in range(len(merged_df)):\n",
    "    if merged_df['date'][i] < merged_df['original_publication_datetime'][i]:\n",
    "        merged_df['date'][i] = merged_df['original_publication_datetime'][i] + datetime.timedelta(days=random.randint(1, 365*10))\n",
    "    else:\n",
    "        pass"
   ]
  },
  {
   "cell_type": "code",
   "execution_count": 34,
   "metadata": {},
   "outputs": [],
   "source": [
    "#### 2º Fix to read Date be larger than the date of publication of the book.\n",
    "to_read = pd.read_csv('to_read.csv')\n",
    "to_read['date'] = [fake.date_between(start_date=start_date, end_date=end_date) for _ in range(len(to_read))]\n",
    "book_dates = merged_df[['book_id','original_publication_datetime']]\n",
    "to_read_merged = to_read.merge(book_dates, left_on='book_id', right_on='book_id', how='inner')"
   ]
  },
  {
   "cell_type": "code",
   "execution_count": 45,
   "metadata": {},
   "outputs": [
    {
     "data": {
      "text/html": [
       "<div>\n",
       "<style scoped>\n",
       "    .dataframe tbody tr th:only-of-type {\n",
       "        vertical-align: middle;\n",
       "    }\n",
       "\n",
       "    .dataframe tbody tr th {\n",
       "        vertical-align: top;\n",
       "    }\n",
       "\n",
       "    .dataframe thead th {\n",
       "        text-align: right;\n",
       "    }\n",
       "</style>\n",
       "<table border=\"1\" class=\"dataframe\">\n",
       "  <thead>\n",
       "    <tr style=\"text-align: right;\">\n",
       "      <th></th>\n",
       "      <th>user_id</th>\n",
       "      <th>book_id</th>\n",
       "      <th>date</th>\n",
       "      <th>original_publication_datetime</th>\n",
       "    </tr>\n",
       "  </thead>\n",
       "  <tbody>\n",
       "    <tr>\n",
       "      <th>0</th>\n",
       "      <td>9</td>\n",
       "      <td>8</td>\n",
       "      <td>2010-01-10</td>\n",
       "      <td>1951-01-01</td>\n",
       "    </tr>\n",
       "    <tr>\n",
       "      <th>1</th>\n",
       "      <td>245</td>\n",
       "      <td>8</td>\n",
       "      <td>2010-04-16</td>\n",
       "      <td>1951-01-01</td>\n",
       "    </tr>\n",
       "    <tr>\n",
       "      <th>2</th>\n",
       "      <td>654</td>\n",
       "      <td>8</td>\n",
       "      <td>2016-03-08</td>\n",
       "      <td>1951-01-01</td>\n",
       "    </tr>\n",
       "    <tr>\n",
       "      <th>3</th>\n",
       "      <td>1509</td>\n",
       "      <td>8</td>\n",
       "      <td>2012-01-31</td>\n",
       "      <td>1951-01-01</td>\n",
       "    </tr>\n",
       "    <tr>\n",
       "      <th>4</th>\n",
       "      <td>1743</td>\n",
       "      <td>8</td>\n",
       "      <td>2010-09-21</td>\n",
       "      <td>1951-01-01</td>\n",
       "    </tr>\n",
       "    <tr>\n",
       "      <th>...</th>\n",
       "      <td>...</td>\n",
       "      <td>...</td>\n",
       "      <td>...</td>\n",
       "      <td>...</td>\n",
       "    </tr>\n",
       "    <tr>\n",
       "      <th>912700</th>\n",
       "      <td>20581</td>\n",
       "      <td>5884</td>\n",
       "      <td>2011-10-15</td>\n",
       "      <td>2017-01-01</td>\n",
       "    </tr>\n",
       "    <tr>\n",
       "      <th>912701</th>\n",
       "      <td>13517</td>\n",
       "      <td>5884</td>\n",
       "      <td>2018-02-13</td>\n",
       "      <td>2017-01-01</td>\n",
       "    </tr>\n",
       "    <tr>\n",
       "      <th>912702</th>\n",
       "      <td>5532</td>\n",
       "      <td>5884</td>\n",
       "      <td>2011-03-31</td>\n",
       "      <td>2017-01-01</td>\n",
       "    </tr>\n",
       "    <tr>\n",
       "      <th>912703</th>\n",
       "      <td>44341</td>\n",
       "      <td>5884</td>\n",
       "      <td>2017-05-10</td>\n",
       "      <td>2017-01-01</td>\n",
       "    </tr>\n",
       "    <tr>\n",
       "      <th>912704</th>\n",
       "      <td>22606</td>\n",
       "      <td>5884</td>\n",
       "      <td>2014-04-16</td>\n",
       "      <td>2017-01-01</td>\n",
       "    </tr>\n",
       "  </tbody>\n",
       "</table>\n",
       "<p>912705 rows × 4 columns</p>\n",
       "</div>"
      ],
      "text/plain": [
       "        user_id  book_id        date original_publication_datetime\n",
       "0             9        8  2010-01-10                    1951-01-01\n",
       "1           245        8  2010-04-16                    1951-01-01\n",
       "2           654        8  2016-03-08                    1951-01-01\n",
       "3          1509        8  2012-01-31                    1951-01-01\n",
       "4          1743        8  2010-09-21                    1951-01-01\n",
       "...         ...      ...         ...                           ...\n",
       "912700    20581     5884  2011-10-15                    2017-01-01\n",
       "912701    13517     5884  2018-02-13                    2017-01-01\n",
       "912702     5532     5884  2011-03-31                    2017-01-01\n",
       "912703    44341     5884  2017-05-10                    2017-01-01\n",
       "912704    22606     5884  2014-04-16                    2017-01-01\n",
       "\n",
       "[912705 rows x 4 columns]"
      ]
     },
     "execution_count": 45,
     "metadata": {},
     "output_type": "execute_result"
    }
   ],
   "source": [
    "to_read_merged"
   ]
  },
  {
   "cell_type": "code",
   "execution_count": 48,
   "metadata": {},
   "outputs": [
    {
     "name": "stderr",
     "output_type": "stream",
     "text": [
      "c:\\Users\\iankk\\Anaconda3\\lib\\site-packages\\ipykernel_launcher.py:3: SettingWithCopyWarning: \n",
      "A value is trying to be set on a copy of a slice from a DataFrame\n",
      "\n",
      "See the caveats in the documentation: https://pandas.pydata.org/pandas-docs/stable/user_guide/indexing.html#returning-a-view-versus-a-copy\n",
      "  This is separate from the ipykernel package so we can avoid doing imports until\n"
     ]
    }
   ],
   "source": [
    "for i in range(len(to_read_merged)):\n",
    "    if to_read_merged['date'][i] < to_read_merged['original_publication_datetime'][i]:\n",
    "        to_read_merged['date'][i] = to_read_merged['original_publication_datetime'][i] + datetime.timedelta(days=random.randint(1, 365*10))\n",
    "    else:\n",
    "        pass\n"
   ]
  },
  {
   "cell_type": "code",
   "execution_count": 54,
   "metadata": {},
   "outputs": [],
   "source": [
    "to_read_merged.to_csv('to_read.csv', index=False)"
   ]
  },
  {
   "cell_type": "code",
   "execution_count": 52,
   "metadata": {},
   "outputs": [
    {
     "data": {
      "text/html": [
       "<div>\n",
       "<style scoped>\n",
       "    .dataframe tbody tr th:only-of-type {\n",
       "        vertical-align: middle;\n",
       "    }\n",
       "\n",
       "    .dataframe tbody tr th {\n",
       "        vertical-align: top;\n",
       "    }\n",
       "\n",
       "    .dataframe thead th {\n",
       "        text-align: right;\n",
       "    }\n",
       "</style>\n",
       "<table border=\"1\" class=\"dataframe\">\n",
       "  <thead>\n",
       "    <tr style=\"text-align: right;\">\n",
       "      <th></th>\n",
       "      <th>user_id</th>\n",
       "      <th>book_id</th>\n",
       "      <th>rating</th>\n",
       "    </tr>\n",
       "  </thead>\n",
       "  <tbody>\n",
       "    <tr>\n",
       "      <th>0</th>\n",
       "      <td>1</td>\n",
       "      <td>258</td>\n",
       "      <td>5</td>\n",
       "    </tr>\n",
       "    <tr>\n",
       "      <th>1</th>\n",
       "      <td>2</td>\n",
       "      <td>4081</td>\n",
       "      <td>4</td>\n",
       "    </tr>\n",
       "    <tr>\n",
       "      <th>2</th>\n",
       "      <td>2</td>\n",
       "      <td>260</td>\n",
       "      <td>5</td>\n",
       "    </tr>\n",
       "    <tr>\n",
       "      <th>3</th>\n",
       "      <td>2</td>\n",
       "      <td>9296</td>\n",
       "      <td>5</td>\n",
       "    </tr>\n",
       "    <tr>\n",
       "      <th>4</th>\n",
       "      <td>2</td>\n",
       "      <td>2318</td>\n",
       "      <td>3</td>\n",
       "    </tr>\n",
       "    <tr>\n",
       "      <th>...</th>\n",
       "      <td>...</td>\n",
       "      <td>...</td>\n",
       "      <td>...</td>\n",
       "    </tr>\n",
       "    <tr>\n",
       "      <th>5976474</th>\n",
       "      <td>49925</td>\n",
       "      <td>510</td>\n",
       "      <td>5</td>\n",
       "    </tr>\n",
       "    <tr>\n",
       "      <th>5976475</th>\n",
       "      <td>49925</td>\n",
       "      <td>528</td>\n",
       "      <td>4</td>\n",
       "    </tr>\n",
       "    <tr>\n",
       "      <th>5976476</th>\n",
       "      <td>49925</td>\n",
       "      <td>722</td>\n",
       "      <td>4</td>\n",
       "    </tr>\n",
       "    <tr>\n",
       "      <th>5976477</th>\n",
       "      <td>49925</td>\n",
       "      <td>949</td>\n",
       "      <td>5</td>\n",
       "    </tr>\n",
       "    <tr>\n",
       "      <th>5976478</th>\n",
       "      <td>49925</td>\n",
       "      <td>1023</td>\n",
       "      <td>4</td>\n",
       "    </tr>\n",
       "  </tbody>\n",
       "</table>\n",
       "<p>5976479 rows × 3 columns</p>\n",
       "</div>"
      ],
      "text/plain": [
       "         user_id  book_id  rating\n",
       "0              1      258       5\n",
       "1              2     4081       4\n",
       "2              2      260       5\n",
       "3              2     9296       5\n",
       "4              2     2318       3\n",
       "...          ...      ...     ...\n",
       "5976474    49925      510       5\n",
       "5976475    49925      528       4\n",
       "5976476    49925      722       4\n",
       "5976477    49925      949       5\n",
       "5976478    49925     1023       4\n",
       "\n",
       "[5976479 rows x 3 columns]"
      ]
     },
     "execution_count": 52,
     "metadata": {},
     "output_type": "execute_result"
    }
   ],
   "source": [
    "ratings"
   ]
  },
  {
   "cell_type": "code",
   "execution_count": 56,
   "metadata": {},
   "outputs": [],
   "source": [
    "ratings_joined = ratings.merge(ratings_with_date_fixed, left_on=['user_id','book_id'], right_on=['user_id','book_id'], how='inner')"
   ]
  },
  {
   "cell_type": "code",
   "execution_count": 58,
   "metadata": {},
   "outputs": [],
   "source": [
    "ratimgs = ratings_joined.drop(['original_publication_year','original_publication_datetime'], axis=1, inplace=True)"
   ]
  },
  {
   "cell_type": "code",
   "execution_count": 63,
   "metadata": {},
   "outputs": [],
   "source": [
    "ratings_joined.to_csv('ratings.csv', index=False)"
   ]
  },
  {
   "cell_type": "code",
   "execution_count": 78,
   "metadata": {},
   "outputs": [],
   "source": [
    "### Fix the to read and ratings date to be larger than the user 10 year old - ok\n",
    "### Was not needed to change anything in the user age column. The users are already older than 10 years old.\n",
    "users = pd.read_csv('user.csv')\n",
    "ratings = pd.read_csv('ratings.csv')\n",
    "to_read = pd.read_csv('to_read.csv')"
   ]
  },
  {
   "cell_type": "code",
   "execution_count": 82,
   "metadata": {},
   "outputs": [],
   "source": [
    "ratings.to_csv('ratings_with_date.csv', index=False)"
   ]
  },
  {
   "cell_type": "code",
   "execution_count": null,
   "metadata": {},
   "outputs": [],
   "source": []
  }
 ],
 "metadata": {
  "kernelspec": {
   "display_name": "base",
   "language": "python",
   "name": "python3"
  },
  "language_info": {
   "codemirror_mode": {
    "name": "ipython",
    "version": 3
   },
   "file_extension": ".py",
   "mimetype": "text/x-python",
   "name": "python",
   "nbconvert_exporter": "python",
   "pygments_lexer": "ipython3",
   "version": "3.7.13"
  },
  "orig_nbformat": 4
 },
 "nbformat": 4,
 "nbformat_minor": 2
}
